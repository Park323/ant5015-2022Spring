{
 "cells": [
  {
   "cell_type": "markdown",
   "id": "7a17b6d4",
   "metadata": {},
   "source": [
    "# Music Generation\n",
    "- Music Generation with MusPy"
   ]
  },
  {
   "cell_type": "code",
   "execution_count": 1,
   "id": "ddebf66c",
   "metadata": {},
   "outputs": [
    {
     "name": "stdout",
     "output_type": "stream",
     "text": [
      "Defaulting to user installation because normal site-packages is not writeable\n",
      "Requirement already satisfied: muspy in /home/teo/.local/lib/python3.8/site-packages (0.4.0)\n",
      "Requirement already satisfied: pretty-midi>=0.2 in /usr/local/lib/python3.8/dist-packages (from muspy) (0.2.9)\n",
      "Requirement already satisfied: matplotlib>=1.5 in /usr/local/lib/python3.8/dist-packages (from muspy) (3.5.1)\n",
      "Requirement already satisfied: tqdm>=4.0 in /usr/local/lib/python3.8/dist-packages (from muspy) (4.62.3)\n",
      "Requirement already satisfied: PyYAML>=3.0 in /usr/local/lib/python3.8/dist-packages (from muspy) (6.0)\n",
      "Requirement already satisfied: music21>=5.0 in /home/teo/.local/lib/python3.8/site-packages (from muspy) (7.1.0)\n",
      "Requirement already satisfied: joblib>=0.15 in /usr/local/lib/python3.8/dist-packages (from muspy) (1.1.0)\n",
      "Requirement already satisfied: mido>=1.0 in /usr/local/lib/python3.8/dist-packages (from muspy) (1.2.10)\n",
      "Requirement already satisfied: requests>=2.0 in /usr/lib/python3/dist-packages (from muspy) (2.22.0)\n",
      "Requirement already satisfied: bidict>=0.21 in /home/teo/.local/lib/python3.8/site-packages (from muspy) (0.21.4)\n",
      "Requirement already satisfied: pypianoroll>=1.0 in /home/teo/.local/lib/python3.8/site-packages (from muspy) (1.0.4)\n",
      "Requirement already satisfied: cycler>=0.10 in /usr/local/lib/python3.8/dist-packages (from matplotlib>=1.5->muspy) (0.11.0)\n",
      "Requirement already satisfied: fonttools>=4.22.0 in /usr/local/lib/python3.8/dist-packages (from matplotlib>=1.5->muspy) (4.28.5)\n",
      "Requirement already satisfied: packaging>=20.0 in /usr/local/lib/python3.8/dist-packages (from matplotlib>=1.5->muspy) (21.3)\n",
      "Requirement already satisfied: numpy>=1.17 in /usr/local/lib/python3.8/dist-packages (from matplotlib>=1.5->muspy) (1.22.1)\n",
      "Requirement already satisfied: python-dateutil>=2.7 in /usr/local/lib/python3.8/dist-packages (from matplotlib>=1.5->muspy) (2.8.2)\n",
      "Requirement already satisfied: pyparsing>=2.2.1 in /usr/local/lib/python3.8/dist-packages (from matplotlib>=1.5->muspy) (3.0.6)\n",
      "Requirement already satisfied: kiwisolver>=1.0.1 in /usr/local/lib/python3.8/dist-packages (from matplotlib>=1.5->muspy) (1.3.2)\n",
      "Requirement already satisfied: pillow>=6.2.0 in /usr/local/lib/python3.8/dist-packages (from matplotlib>=1.5->muspy) (9.0.0)\n",
      "Requirement already satisfied: chardet in /usr/lib/python3/dist-packages (from music21>=5.0->muspy) (3.0.4)\n",
      "Requirement already satisfied: more-itertools in /home/teo/.local/lib/python3.8/site-packages (from music21>=5.0->muspy) (8.12.0)\n",
      "Requirement already satisfied: jsonpickle in /home/teo/.local/lib/python3.8/site-packages (from music21>=5.0->muspy) (2.1.0)\n",
      "Requirement already satisfied: webcolors>=1.5 in /home/teo/.local/lib/python3.8/site-packages (from music21>=5.0->muspy) (1.11.1)\n",
      "Requirement already satisfied: six in /usr/lib/python3/dist-packages (from pretty-midi>=0.2->muspy) (1.14.0)\n",
      "Requirement already satisfied: scipy>=1.0.0 in /usr/local/lib/python3.8/dist-packages (from pypianoroll>=1.0->muspy) (1.7.3)\n"
     ]
    }
   ],
   "source": [
    "'''\n",
    "install muspy\n",
    "'''\n",
    "!pip install muspy"
   ]
  },
  {
   "cell_type": "code",
   "execution_count": 8,
   "id": "def85864",
   "metadata": {},
   "outputs": [
    {
     "name": "stdout",
     "output_type": "stream",
     "text": [
      "Skip downloading as the `.muspy.success` file is found.\n",
      "Skip extracting as the `.muspy.success` file is found.\n"
     ]
    }
   ],
   "source": [
    "import muspy\n",
    "your_path = '~/userdata/datasets/essen_folk/' # Change it!\n",
    "essen = muspy.EssenFolkSongDatabase(your_path, download_and_extract=True)"
   ]
  },
  {
   "cell_type": "code",
   "execution_count": 9,
   "id": "aa430d27",
   "metadata": {},
   "outputs": [
    {
     "name": "stdout",
     "output_type": "stream",
     "text": [
      "Skip conversion as the `.muspy.success` file is found.\n"
     ]
    },
    {
     "data": {
      "text/plain": [
       "EssenFolkSongDatabase(root=/home/teo/userdata/datasets/essen_folk)"
      ]
     },
     "execution_count": 9,
     "metadata": {},
     "output_type": "execute_result"
    }
   ],
   "source": [
    "essen.convert()"
   ]
  },
  {
   "cell_type": "markdown",
   "id": "29d52880",
   "metadata": {},
   "source": [
    "- You can visualize score with ``muspy.show_score()``\n",
    "- You can sonify score with ``muspy.synthesize()``\n",
    "\n",
    "- You need to install font and soundfont\n",
    "    - ``muspy.download_bravura_font()``\n",
    "    - ``muspy.download_musescore_soundfont()``"
   ]
  },
  {
   "cell_type": "code",
   "execution_count": 13,
   "id": "2ffb931c",
   "metadata": {},
   "outputs": [
    {
     "data": {
      "text/plain": [
       "9034"
      ]
     },
     "execution_count": 13,
     "metadata": {},
     "output_type": "execute_result"
    }
   ],
   "source": [
    "len(essen)"
   ]
  },
  {
   "cell_type": "code",
   "execution_count": 14,
   "id": "4e094044",
   "metadata": {},
   "outputs": [],
   "source": [
    "a_piece = essen[0]\n"
   ]
  },
  {
   "cell_type": "code",
   "execution_count": 19,
   "id": "b410cf67",
   "metadata": {},
   "outputs": [
    {
     "data": {
      "text/plain": [
       "<muspy.visualization.score.ScorePlotter at 0x7fc0d9e84700>"
      ]
     },
     "execution_count": 19,
     "metadata": {},
     "output_type": "execute_result"
    },
    {
     "data": {
      "text/plain": [
       "<Figure size 360x1440 with 0 Axes>"
      ]
     },
     "metadata": {},
     "output_type": "display_data"
    },
    {
     "data": {
      "image/png": "[encoded data removed]",
      "text/plain": [
       "<Figure size 432x288 with 1 Axes>"
      ]
     },
     "metadata": {
      "image/png": {
       "height": 35,
       "width": 446
      },
      "needs_background": "light"
     },
     "output_type": "display_data"
    }
   ],
   "source": [
    "import matplotlib.pyplot as plt\n",
    "\n",
    "fig = plt.figure(figsize=(5,20))\n",
    "muspy.show_score(a_piece)"
   ]
  },
  {
   "cell_type": "code",
   "execution_count": null,
   "id": "cdce3225",
   "metadata": {},
   "outputs": [],
   "source": []
  },
  {
   "cell_type": "code",
   "execution_count": null,
   "id": "f27e1dbf",
   "metadata": {},
   "outputs": [],
   "source": []
  },
  {
   "cell_type": "markdown",
   "id": "c1e1eba2",
   "metadata": {},
   "source": [
    "- You can convert MusPy dataset to pytorch dataset using\n",
    "    - ``essen.to_pytorch_dataset(representation='note', splits=(0.6, 0.2, 0.2))``\n",
    "    - this also include train/valid/test split\n",
    "   \n"
   ]
  },
  {
   "cell_type": "code",
   "execution_count": null,
   "id": "938f11b0",
   "metadata": {},
   "outputs": [],
   "source": []
  },
  {
   "cell_type": "markdown",
   "id": "1ef0581d",
   "metadata": {},
   "source": [
    "- You can convert representation by using\n",
    "    - ``muspy.to_pitch_representation``\n",
    "    - ``muspy.to_pianoroll_representation``\n",
    "    "
   ]
  },
  {
   "cell_type": "code",
   "execution_count": null,
   "id": "ec92634a",
   "metadata": {},
   "outputs": [],
   "source": []
  },
  {
   "cell_type": "code",
   "execution_count": null,
   "id": "62ac8662",
   "metadata": {},
   "outputs": [],
   "source": []
  },
  {
   "cell_type": "markdown",
   "id": "a684fb72",
   "metadata": {},
   "source": [
    "## Make Data Loader"
   ]
  },
  {
   "cell_type": "code",
   "execution_count": null,
   "id": "17476e80",
   "metadata": {},
   "outputs": [],
   "source": []
  },
  {
   "cell_type": "markdown",
   "id": "feec6de2",
   "metadata": {},
   "source": [
    "## Define Model"
   ]
  },
  {
   "cell_type": "code",
   "execution_count": null,
   "id": "4476dee9",
   "metadata": {},
   "outputs": [],
   "source": []
  },
  {
   "cell_type": "code",
   "execution_count": null,
   "id": "a35f350e",
   "metadata": {},
   "outputs": [],
   "source": []
  },
  {
   "cell_type": "markdown",
   "id": "cf9bb415",
   "metadata": {},
   "source": [
    "## Make Train Loop"
   ]
  },
  {
   "cell_type": "code",
   "execution_count": null,
   "id": "5c29cf26",
   "metadata": {},
   "outputs": [],
   "source": []
  },
  {
   "cell_type": "markdown",
   "id": "53a239d7",
   "metadata": {},
   "source": [
    "## Make Inference\n",
    "- "
   ]
  },
  {
   "cell_type": "code",
   "execution_count": null,
   "id": "82bf052d",
   "metadata": {},
   "outputs": [],
   "source": []
  },
  {
   "cell_type": "code",
   "execution_count": null,
   "id": "494e4b6a",
   "metadata": {},
   "outputs": [],
   "source": []
  }
 ],
 "metadata": {
  "kernelspec": {
   "display_name": "Python 3 (ipykernel)",
   "language": "python",
   "name": "python3"
  },
  "language_info": {
   "codemirror_mode": {
    "name": "ipython",
    "version": 3
   },
   "file_extension": ".py",
   "mimetype": "text/x-python",
   "name": "python",
   "nbconvert_exporter": "python",
   "pygments_lexer": "ipython3",
   "version": "3.8.10"
  }
 },
 "nbformat": 4,
 "nbformat_minor": 5
}
