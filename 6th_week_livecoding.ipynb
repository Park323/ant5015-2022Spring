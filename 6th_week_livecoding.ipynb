{
 "cells": [
  {
   "cell_type": "markdown",
   "id": "60457791",
   "metadata": {},
   "source": [
    "# Autotagging"
   ]
  },
  {
   "cell_type": "code",
   "execution_count": 1,
   "id": "d5e73fb9",
   "metadata": {},
   "outputs": [],
   "source": [
    "import torch\n",
    "import torchaudio\n",
    "import IPython.display as ipd\n",
    "from pathlib import Path\n",
    "import pandas as pd"
   ]
  },
  {
   "cell_type": "markdown",
   "id": "97164c88",
   "metadata": {},
   "source": [
    "- Download Small MTAT if you need\n"
   ]
  },
  {
   "cell_type": "code",
   "execution_count": null,
   "id": "2ea84fda",
   "metadata": {},
   "outputs": [],
   "source": [
    "!pip install gdown==4.4.0\n",
    "!gdown 15e9E3oZdudErkPKwb0rCAiZXkPxdZkV6\n",
    "!unzip -q mtat_8000.zip"
   ]
  },
  {
   "cell_type": "code",
   "execution_count": 6,
   "id": "7de7e920",
   "metadata": {},
   "outputs": [],
   "source": [
    "class MTATDataset:\n",
    "  def __init__(self, dir_path, split='train', num_max_data=6000, sr=16000):\n",
    "    self.dir = Path(dir_path)\n",
    "    self.labels = pd.read_csv(self.dir / \"meta.csv\", index_col=[0])\n",
    "    self.sr = sr\n",
    "\n",
    "    if split==\"train\":\n",
    "      sub_dir_ids = ['0', '1', '2', '3', '4', '5', '6', '7', '8', '9', 'a', 'b', 'c']\n",
    "    elif split=='valid':\n",
    "      sub_dir_ids = ['d']\n",
    "    else: #test\n",
    "      sub_dir_ids = ['e', 'f', 'g']\n",
    "\n",
    "    is_in_set = [True if x[0] in sub_dir_ids else False for x in self.labels['mp3_path'].values.astype('str')]\n",
    "    self.labels = self.labels.iloc[is_in_set]\n",
    "    self.labels = self.labels[:num_max_data]\n",
    "    self.vocab = self.labels.columns.values[1:-1]\n",
    "    self.label_tensor = self.convert_label_to_tensor()\n",
    "  \n",
    "  def convert_label_to_tensor(self):\n",
    "    return torch.LongTensor(self.labels.values[:, 1:-1].astype('bool'))\n",
    "\n",
    "  def __len__(self):\n",
    "    return len(self.labels)\n",
    "\n",
    "data_dir = Path('MTAT_SMALL')\n",
    "dataset= MTATDataset(data_dir)"
   ]
  },
  {
   "cell_type": "markdown",
   "id": "c4074a82",
   "metadata": {},
   "source": [
    "## Make Dataset"
   ]
  },
  {
   "cell_type": "code",
   "execution_count": 7,
   "id": "3cc3b84e",
   "metadata": {},
   "outputs": [],
   "source": [
    "class OnFlyDataset(MTATDataset):\n",
    "  def __init__(self, dir_path, split='train', num_max_data=6000, sr=16000):\n",
    "    super().__init__(dir_path, split, num_max_data, sr)\n",
    "#     self.resampler = torchaudio.transforms.Resample(orig_freq=22050, new_freq=self.sr)\n",
    "  \n",
    "  def __getitem__(self, idx):\n",
    "    audio_path = self.labels['mp3_path'].iloc[idx]\n",
    "    y, sr = torchaudio.load(self.dir / audio_path)\n",
    "    \n",
    "    if sr != self.sr:\n",
    "      y = torchaudio.functional.resample(y, orig_freq=sr, new_freq=self.sr)\n",
    "    \n",
    "    label = self.label_tensor[idx]\n",
    "    return y[0], label\n",
    "    \n",
    "\n",
    "trainset = OnFlyDataset(data_dir)"
   ]
  },
  {
   "cell_type": "markdown",
   "id": "56f48eb7",
   "metadata": {},
   "source": [
    "## Make Model"
   ]
  },
  {
   "cell_type": "code",
   "execution_count": 8,
   "id": "35d280b8",
   "metadata": {},
   "outputs": [],
   "source": [
    "import torch.nn as nn\n",
    "\n",
    "class SpecModel(nn.Module):\n",
    "  def __init__(self, sr, n_fft, hop_length, n_mels):\n",
    "    super().__init__()\n",
    "    self.mel_converter = torchaudio.transforms.MelSpectrogram(sample_rate=sr, n_fft=n_fft, hop_length=hop_length, n_mels=n_mels)\n",
    "    self.db_converter = torchaudio.transforms.AmplitudeToDB()\n",
    "  def forward(self, x):\n",
    "    mel_spec = self.mel_converter(x)\n",
    "    return self.db_converter(mel_spec)\n",
    "\n",
    "class AudioModel(nn.Module):\n",
    "  def __init__(self, sr, n_fft, hop_length, n_mels, hidden_size, num_output):\n",
    "    super().__init__()\n",
    "    self.sr = sr\n",
    "    self.spec_converter = SpecModel(sr, n_fft, hop_length, n_mels)\n",
    "    self.conv_layer = nn.Sequential(\n",
    "      nn.Conv1d(n_mels, out_channels=hidden_size, kernel_size=3),\n",
    "      nn.MaxPool1d(3),\n",
    "      nn.ReLU(),\n",
    "      nn.Conv1d(hidden_size, out_channels=hidden_size, kernel_size=3),\n",
    "      nn.MaxPool1d(3),\n",
    "      nn.ReLU(),     \n",
    "      nn.Conv1d(hidden_size, out_channels=hidden_size, kernel_size=3),\n",
    "      nn.MaxPool1d(3),\n",
    "      nn.ReLU(),\n",
    "    )\n",
    "    self.final_layer = nn.Linear(hidden_size, num_output)\n",
    "\n",
    "  def get_spec(self, x):\n",
    "    '''\n",
    "    Get result of self.spec_converter\n",
    "    x (torch.Tensor): audio samples (num_batch_size X num_audio_samples)\n",
    "    '''\n",
    "    return self.spec_converter(x)\n",
    "  \n",
    "  def forward(self, x):\n",
    "    spec = self.get_spec(x) # num_batch X num_mel_bins X num_time_bins\n",
    "    out = self.conv_layer(spec)\n",
    "    out = torch.max(out, dim=-1)[0] # select [0] because torch.max outputs tuple of (value, index)\n",
    "    out = self.final_layer(out)\n",
    "    out = torch.sigmoid(out)\n",
    "    return out\n",
    "  \n",
    "model = AudioModel(16000, 1024, 512, 40, 128, 50)"
   ]
  },
  {
   "cell_type": "code",
   "execution_count": null,
   "id": "7703d957",
   "metadata": {},
   "outputs": [],
   "source": []
  },
  {
   "cell_type": "code",
   "execution_count": null,
   "id": "941b59e7",
   "metadata": {},
   "outputs": [],
   "source": []
  }
 ],
 "metadata": {
  "kernelspec": {
   "display_name": "Python 3 (ipykernel)",
   "language": "python",
   "name": "python3"
  },
  "language_info": {
   "codemirror_mode": {
    "name": "ipython",
    "version": 3
   },
   "file_extension": ".py",
   "mimetype": "text/x-python",
   "name": "python",
   "nbconvert_exporter": "python",
   "pygments_lexer": "ipython3",
   "version": "3.8.10"
  }
 },
 "nbformat": 4,
 "nbformat_minor": 5
}
