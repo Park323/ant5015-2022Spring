{
 "cells": [
  {
   "cell_type": "code",
   "execution_count": 1,
   "id": "4e1cf1dd",
   "metadata": {},
   "outputs": [],
   "source": [
    "import torch\n",
    "import torch.nn as nn\n",
    "import torchaudio\n",
    "from pathlib import Path\n",
    "import pandas as pd\n",
    "import IPython.display as ipd\n",
    "from torch.utils.data import DataLoader\n",
    "from tqdm.auto import tqdm\n",
    "import matplotlib.pyplot as plt"
   ]
  },
  {
   "cell_type": "code",
   "execution_count": 2,
   "id": "38e30c2e",
   "metadata": {},
   "outputs": [
    {
     "name": "stdout",
     "output_type": "stream",
     "text": [
      "--2022-05-17 14:19:05--  http://download.magenta.tensorflow.org/datasets/nsynth/nsynth-test.jsonwav.tar.gz\n",
      "Resolving download.magenta.tensorflow.org (download.magenta.tensorflow.org)... 172.217.27.48, 2404:6800:4005:808::2010\n",
      "Connecting to download.magenta.tensorflow.org (download.magenta.tensorflow.org)|172.217.27.48|:80... connected.\n",
      "HTTP request sent, awaiting response... 200 OK\n",
      "Length: 349501546 (333M) [application/gzip]\n",
      "Saving to: ‘nsynth-test.jsonwav.tar.gz’\n",
      "\n",
      "nsynth-test.jsonwav 100%[===================>] 333.31M  7.57MB/s    in 44s     \n",
      "\n",
      "2022-05-17 14:19:49 (7.61 MB/s) - ‘nsynth-test.jsonwav.tar.gz’ saved [349501546/349501546]\n",
      "\n"
     ]
    }
   ],
   "source": [
    "'''\n",
    "Let's only use testset\n",
    "'''\n",
    "!wget http://download.magenta.tensorflow.org/datasets/nsynth/nsynth-test.jsonwav.tar.gz"
   ]
  },
  {
   "cell_type": "code",
   "execution_count": null,
   "id": "8bb9b091",
   "metadata": {},
   "outputs": [],
   "source": [
    "!tar -xf nsynth-test.jsonwav.tar.gz"
   ]
  }
 ],
 "metadata": {
  "kernelspec": {
   "display_name": "Python 3 (ipykernel)",
   "language": "python",
   "name": "python3"
  },
  "language_info": {
   "codemirror_mode": {
    "name": "ipython",
    "version": 3
   },
   "file_extension": ".py",
   "mimetype": "text/x-python",
   "name": "python",
   "nbconvert_exporter": "python",
   "pygments_lexer": "ipython3",
   "version": "3.8.10"
  }
 },
 "nbformat": 4,
 "nbformat_minor": 5
}
