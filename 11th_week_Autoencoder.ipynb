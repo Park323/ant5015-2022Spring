{
 "cells": [
  {
   "cell_type": "code",
   "execution_count": null,
   "id": "4affc3a8",
   "metadata": {},
   "outputs": [],
   "source": [
    "import torch\n",
    "import torch.nn as nn\n",
    "import torchaudio\n",
    "from pathlib import Path\n",
    "import pandas as pd\n",
    "import IPython.display as ipd\n",
    "from torch.utils.data import DataLoader\n",
    "from tqdm.auto import tqdm\n",
    "import matplotlib.pyplot as plt"
   ]
  },
  {
   "cell_type": "code",
   "execution_count": null,
   "id": "992359cd",
   "metadata": {},
   "outputs": [],
   "source": [
    "'''\n",
    "Let's only use testset\n",
    "'''\n",
    "!wget http://download.magenta.tensorflow.org/datasets/nsynth/nsynth-test.jsonwav.tar.gz"
   ]
  },
  {
   "cell_type": "code",
   "execution_count": null,
   "id": "369682b9",
   "metadata": {},
   "outputs": [],
   "source": [
    "!tar -xf nsynth-test.jsonwav.tar.gz"
   ]
  }
 ],
 "metadata": {
  "kernelspec": {
   "display_name": "Python 3 (ipykernel)",
   "language": "python",
   "name": "python3"
  },
  "language_info": {
   "codemirror_mode": {
    "name": "ipython",
    "version": 3
   },
   "file_extension": ".py",
   "mimetype": "text/x-python",
   "name": "python",
   "nbconvert_exporter": "python",
   "pygments_lexer": "ipython3",
   "version": "3.8.10"
  }
 },
 "nbformat": 4,
 "nbformat_minor": 5
}
